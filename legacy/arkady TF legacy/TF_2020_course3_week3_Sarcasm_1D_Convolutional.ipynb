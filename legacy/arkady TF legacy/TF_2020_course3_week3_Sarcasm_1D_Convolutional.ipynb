{
 "cells": [
  {
   "cell_type": "code",
   "execution_count": 18,
   "metadata": {},
   "outputs": [],
   "source": [
    "import json\n",
    "import tensorflow as tf\n",
    "import numpy as np\n",
    "\n",
    "from tensorflow.keras.preprocessing.text import Tokenizer\n",
    "from tensorflow.keras.preprocessing.sequence import pad_sequences\n"
   ]
  },
  {
   "cell_type": "code",
   "execution_count": 10,
   "metadata": {},
   "outputs": [],
   "source": [
    "#!wget --no-check-certificate \\\n",
    "#    https://storage.googleapis.com/laurencemoroney-blog.appspot.com/sarcasm.json \\\n",
    "#    -O /tmp/sarcasm.json"
   ]
  },
  {
   "cell_type": "code",
   "execution_count": 11,
   "metadata": {},
   "outputs": [],
   "source": [
    "root = r'D:\\Users\\Arkady\\Verint\\Coursera_2019_Tensorflow_Specialization\\Course3_NLP'"
   ]
  },
  {
   "cell_type": "code",
   "execution_count": 12,
   "metadata": {},
   "outputs": [],
   "source": [
    "vocab_size = 1000\n",
    "embedding_dim = 16\n",
    "max_length = 120\n",
    "trunc_type='post'\n",
    "padding_type='post'\n",
    "oov_tok = \"<OOV>\"\n",
    "training_size = 20000"
   ]
  },
  {
   "cell_type": "code",
   "execution_count": 13,
   "metadata": {},
   "outputs": [],
   "source": [
    "with open(root + \"/tmp/sarcasm.json\", 'r') as f:\n",
    "    datastore = json.load(f)\n",
    "\n",
    "\n",
    "sentences = []\n",
    "labels = []\n",
    "urls = []\n",
    "for item in datastore:\n",
    "    sentences.append(item['headline'])\n",
    "    labels.append(item['is_sarcastic'])\n",
    "\n",
    "training_sentences = sentences[0:training_size]\n",
    "testing_sentences = sentences[training_size:]\n",
    "training_labels = labels[0:training_size]\n",
    "testing_labels = labels[training_size:]\n",
    "\n",
    "tokenizer = Tokenizer(num_words=vocab_size, oov_token=oov_tok)\n",
    "tokenizer.fit_on_texts(training_sentences)\n",
    "\n",
    "word_index = tokenizer.word_index\n",
    "\n",
    "training_sequences = tokenizer.texts_to_sequences(training_sentences)\n",
    "training_padded = pad_sequences(training_sequences, maxlen=max_length, padding=padding_type, truncating=trunc_type)\n",
    "\n",
    "testing_sequences = tokenizer.texts_to_sequences(testing_sentences)\n",
    "testing_padded = pad_sequences(testing_sequences, maxlen=max_length, padding=padding_type, truncating=trunc_type)"
   ]
  },
  {
   "cell_type": "code",
   "execution_count": 19,
   "metadata": {},
   "outputs": [],
   "source": [
    "training_labels_array = np.array(training_labels)\n",
    "testing_labels_array = np.array(testing_labels)"
   ]
  },
  {
   "cell_type": "code",
   "execution_count": 14,
   "metadata": {},
   "outputs": [
    {
     "name": "stdout",
     "output_type": "stream",
     "text": [
      "Model: \"sequential_1\"\n",
      "_________________________________________________________________\n",
      "Layer (type)                 Output Shape              Param #   \n",
      "=================================================================\n",
      "embedding_1 (Embedding)      (None, 120, 16)           16000     \n",
      "_________________________________________________________________\n",
      "conv1d_1 (Conv1D)            (None, 116, 128)          10368     \n",
      "_________________________________________________________________\n",
      "global_max_pooling1d_1 (Glob (None, 128)               0         \n",
      "_________________________________________________________________\n",
      "dense_2 (Dense)              (None, 24)                3096      \n",
      "_________________________________________________________________\n",
      "dense_3 (Dense)              (None, 1)                 25        \n",
      "=================================================================\n",
      "Total params: 29,489\n",
      "Trainable params: 29,489\n",
      "Non-trainable params: 0\n",
      "_________________________________________________________________\n"
     ]
    }
   ],
   "source": [
    "model = tf.keras.Sequential([\n",
    "    tf.keras.layers.Embedding(vocab_size, embedding_dim, input_length=max_length),\n",
    "    tf.keras.layers.Conv1D(128, 5, activation='relu'),\n",
    "    tf.keras.layers.GlobalMaxPooling1D(),\n",
    "    tf.keras.layers.Dense(24, activation='relu'),\n",
    "    tf.keras.layers.Dense(1, activation='sigmoid')\n",
    "])\n",
    "model.compile(loss='binary_crossentropy',optimizer='adam',metrics=['accuracy'])\n",
    "model.summary()"
   ]
  },
  {
   "cell_type": "code",
   "execution_count": 20,
   "metadata": {},
   "outputs": [
    {
     "name": "stdout",
     "output_type": "stream",
     "text": [
      "Train on 20000 samples, validate on 6709 samples\n",
      "Epoch 1/50\n",
      "20000/20000 [==============================] - 8s 406us/sample - loss: 0.4731 - accuracy: 0.7635 - val_loss: 0.4195 - val_accuracy: 0.8067\n",
      "Epoch 2/50\n",
      "20000/20000 [==============================] - 7s 343us/sample - loss: 0.3601 - accuracy: 0.8379 - val_loss: 0.4011 - val_accuracy: 0.8182\n",
      "Epoch 3/50\n",
      "20000/20000 [==============================] - 6s 316us/sample - loss: 0.3196 - accuracy: 0.8585 - val_loss: 0.4088 - val_accuracy: 0.8176\n",
      "Epoch 4/50\n",
      "20000/20000 [==============================] - 6s 301us/sample - loss: 0.2851 - accuracy: 0.8751 - val_loss: 0.4012 - val_accuracy: 0.8229\n",
      "Epoch 5/50\n",
      "20000/20000 [==============================] - 6s 292us/sample - loss: 0.2502 - accuracy: 0.8918 - val_loss: 0.4308 - val_accuracy: 0.8229\n",
      "Epoch 6/50\n",
      "20000/20000 [==============================] - 6s 293us/sample - loss: 0.2155 - accuracy: 0.9104 - val_loss: 0.4529 - val_accuracy: 0.8155\n",
      "Epoch 7/50\n",
      "20000/20000 [==============================] - 6s 284us/sample - loss: 0.1835 - accuracy: 0.9264 - val_loss: 0.5018 - val_accuracy: 0.8158\n",
      "Epoch 8/50\n",
      "20000/20000 [==============================] - 6s 285us/sample - loss: 0.1528 - accuracy: 0.9426 - val_loss: 0.5484 - val_accuracy: 0.8146\n",
      "Epoch 9/50\n",
      "20000/20000 [==============================] - 6s 296us/sample - loss: 0.1265 - accuracy: 0.9525 - val_loss: 0.6124 - val_accuracy: 0.8021\n",
      "Epoch 10/50\n",
      "20000/20000 [==============================] - 6s 301us/sample - loss: 0.1049 - accuracy: 0.9621 - val_loss: 0.7110 - val_accuracy: 0.8071\n",
      "Epoch 11/50\n",
      "20000/20000 [==============================] - 6s 294us/sample - loss: 0.0866 - accuracy: 0.9689 - val_loss: 0.7763 - val_accuracy: 0.7982\n",
      "Epoch 12/50\n",
      "20000/20000 [==============================] - 6s 284us/sample - loss: 0.0704 - accuracy: 0.9750 - val_loss: 0.8928 - val_accuracy: 0.8012\n",
      "Epoch 13/50\n",
      "20000/20000 [==============================] - 6s 286us/sample - loss: 0.0635 - accuracy: 0.9766 - val_loss: 0.9379 - val_accuracy: 0.7968\n",
      "Epoch 14/50\n",
      "20000/20000 [==============================] - 6s 288us/sample - loss: 0.0574 - accuracy: 0.9791 - val_loss: 1.0125 - val_accuracy: 0.7964\n",
      "Epoch 15/50\n",
      "20000/20000 [==============================] - 6s 284us/sample - loss: 0.0476 - accuracy: 0.9832 - val_loss: 1.1566 - val_accuracy: 0.8034\n",
      "Epoch 16/50\n",
      "20000/20000 [==============================] - 6s 284us/sample - loss: 0.0441 - accuracy: 0.9833 - val_loss: 1.1972 - val_accuracy: 0.7968\n",
      "Epoch 17/50\n",
      "20000/20000 [==============================] - 6s 286us/sample - loss: 0.0438 - accuracy: 0.9837 - val_loss: 1.2916 - val_accuracy: 0.7927\n",
      "Epoch 18/50\n",
      "20000/20000 [==============================] - 6s 297us/sample - loss: 0.0400 - accuracy: 0.9844 - val_loss: 1.3390 - val_accuracy: 0.7959\n",
      "Epoch 19/50\n",
      "20000/20000 [==============================] - 6s 293us/sample - loss: 0.0369 - accuracy: 0.9863 - val_loss: 1.4615 - val_accuracy: 0.7866\n",
      "Epoch 20/50\n",
      "20000/20000 [==============================] - 6s 292us/sample - loss: 0.0348 - accuracy: 0.9869 - val_loss: 1.4893 - val_accuracy: 0.7900\n",
      "Epoch 21/50\n",
      "20000/20000 [==============================] - 6s 302us/sample - loss: 0.0359 - accuracy: 0.9853 - val_loss: 1.6427 - val_accuracy: 0.7931\n",
      "Epoch 22/50\n",
      "20000/20000 [==============================] - 6s 297us/sample - loss: 0.0298 - accuracy: 0.9886 - val_loss: 1.6292 - val_accuracy: 0.7891\n",
      "Epoch 23/50\n",
      "20000/20000 [==============================] - 6s 303us/sample - loss: 0.0288 - accuracy: 0.9883 - val_loss: 1.6879 - val_accuracy: 0.7857\n",
      "Epoch 24/50\n",
      "20000/20000 [==============================] - 6s 290us/sample - loss: 0.0330 - accuracy: 0.9870 - val_loss: 1.6908 - val_accuracy: 0.7873\n",
      "Epoch 25/50\n",
      "20000/20000 [==============================] - 6s 296us/sample - loss: 0.0321 - accuracy: 0.9872 - val_loss: 1.7464 - val_accuracy: 0.7925\n",
      "Epoch 26/50\n",
      "20000/20000 [==============================] - 6s 296us/sample - loss: 0.0303 - accuracy: 0.9876 - val_loss: 1.8127 - val_accuracy: 0.7877\n",
      "Epoch 27/50\n",
      "20000/20000 [==============================] - 5s 266us/sample - loss: 0.0258 - accuracy: 0.9898 - val_loss: 1.9186 - val_accuracy: 0.7885\n",
      "Epoch 28/50\n",
      "20000/20000 [==============================] - 5s 273us/sample - loss: 0.0231 - accuracy: 0.9902 - val_loss: 1.9937 - val_accuracy: 0.7891\n",
      "Epoch 29/50\n",
      "20000/20000 [==============================] - 5s 273us/sample - loss: 0.0269 - accuracy: 0.9883 - val_loss: 1.9900 - val_accuracy: 0.7885\n",
      "Epoch 30/50\n",
      "20000/20000 [==============================] - 5s 267us/sample - loss: 0.0287 - accuracy: 0.9877 - val_loss: 2.0132 - val_accuracy: 0.7860\n",
      "Epoch 31/50\n",
      "20000/20000 [==============================] - 5s 268us/sample - loss: 0.0307 - accuracy: 0.9875 - val_loss: 2.0880 - val_accuracy: 0.7904\n",
      "Epoch 32/50\n",
      "20000/20000 [==============================] - 5s 271us/sample - loss: 0.0261 - accuracy: 0.9887 - val_loss: 1.9975 - val_accuracy: 0.7897\n",
      "Epoch 33/50\n",
      "20000/20000 [==============================] - 6s 291us/sample - loss: 0.0217 - accuracy: 0.9906 - val_loss: 2.1373 - val_accuracy: 0.7880\n",
      "Epoch 34/50\n",
      "20000/20000 [==============================] - 5s 269us/sample - loss: 0.0248 - accuracy: 0.9900 - val_loss: 2.0701 - val_accuracy: 0.7874\n",
      "Epoch 35/50\n",
      "20000/20000 [==============================] - 5s 268us/sample - loss: 0.0294 - accuracy: 0.9874 - val_loss: 2.2126 - val_accuracy: 0.7880\n",
      "Epoch 36/50\n",
      "20000/20000 [==============================] - 5s 267us/sample - loss: 0.0217 - accuracy: 0.9902 - val_loss: 2.2416 - val_accuracy: 0.7807\n",
      "Epoch 37/50\n",
      "20000/20000 [==============================] - 5s 268us/sample - loss: 0.0185 - accuracy: 0.9923 - val_loss: 2.3259 - val_accuracy: 0.7834\n",
      "Epoch 38/50\n",
      "20000/20000 [==============================] - 6s 279us/sample - loss: 0.0203 - accuracy: 0.9908 - val_loss: 2.3078 - val_accuracy: 0.7904\n",
      "Epoch 39/50\n",
      "20000/20000 [==============================] - 6s 288us/sample - loss: 0.0243 - accuracy: 0.9895 - val_loss: 2.2243 - val_accuracy: 0.7833\n",
      "Epoch 40/50\n",
      "20000/20000 [==============================] - 6s 277us/sample - loss: 0.0251 - accuracy: 0.9890 - val_loss: 2.3784 - val_accuracy: 0.7807\n",
      "Epoch 41/50\n",
      "20000/20000 [==============================] - 5s 268us/sample - loss: 0.0265 - accuracy: 0.9891 - val_loss: 2.4107 - val_accuracy: 0.7922\n",
      "Epoch 42/50\n",
      "20000/20000 [==============================] - 5s 267us/sample - loss: 0.0195 - accuracy: 0.9913 - val_loss: 2.4137 - val_accuracy: 0.7924\n",
      "Epoch 43/50\n",
      "20000/20000 [==============================] - 5s 266us/sample - loss: 0.0218 - accuracy: 0.9905 - val_loss: 2.4327 - val_accuracy: 0.7803\n",
      "Epoch 44/50\n",
      "20000/20000 [==============================] - 5s 267us/sample - loss: 0.0223 - accuracy: 0.9898 - val_loss: 2.3665 - val_accuracy: 0.7873\n",
      "Epoch 45/50\n",
      "20000/20000 [==============================] - 5s 266us/sample - loss: 0.0202 - accuracy: 0.9908 - val_loss: 2.5147 - val_accuracy: 0.7933\n",
      "Epoch 46/50\n",
      "20000/20000 [==============================] - 5s 268us/sample - loss: 0.0254 - accuracy: 0.9894 - val_loss: 2.5216 - val_accuracy: 0.7919\n",
      "Epoch 47/50\n",
      "20000/20000 [==============================] - 5s 264us/sample - loss: 0.0238 - accuracy: 0.9904 - val_loss: 2.4276 - val_accuracy: 0.7855\n",
      "Epoch 48/50\n",
      "20000/20000 [==============================] - 5s 265us/sample - loss: 0.0181 - accuracy: 0.9916 - val_loss: 2.5432 - val_accuracy: 0.7909\n",
      "Epoch 49/50\n",
      "20000/20000 [==============================] - 5s 265us/sample - loss: 0.0178 - accuracy: 0.9923 - val_loss: 2.6274 - val_accuracy: 0.7910\n",
      "Epoch 50/50\n",
      "20000/20000 [==============================] - 5s 264us/sample - loss: 0.0222 - accuracy: 0.9905 - val_loss: 2.7252 - val_accuracy: 0.7851\n"
     ]
    }
   ],
   "source": [
    "num_epochs = 50\n",
    "history = model.fit(training_padded, training_labels_array, epochs=num_epochs, validation_data=(testing_padded, testing_labels_array), verbose=1)"
   ]
  },
  {
   "cell_type": "code",
   "execution_count": 22,
   "metadata": {},
   "outputs": [
    {
     "data": {
      "image/png": "[encoded data removed]",
      "text/plain": [
       "<Figure size 432x288 with 1 Axes>"
      ]
     },
     "metadata": {
      "needs_background": "light"
     },
     "output_type": "display_data"
    },
    {
     "data": {
      "image/png": "[encoded data removed]",
      "text/plain": [
       "<Figure size 432x288 with 1 Axes>"
      ]
     },
     "metadata": {
      "needs_background": "light"
     },
     "output_type": "display_data"
    }
   ],
   "source": [
    "import matplotlib.pyplot as plt\n",
    "\n",
    "\n",
    "def plot_graphs(history, string):\n",
    "  plt.plot(history.history[string])\n",
    "  plt.plot(history.history['val_'+string])\n",
    "  plt.xlabel(\"Epochs\")\n",
    "  plt.ylabel(string)\n",
    "  plt.legend([string, 'val_'+string])\n",
    "  plt.show()\n",
    "\n",
    "plot_graphs(history, 'accuracy')\n",
    "plot_graphs(history, 'loss')"
   ]
  },
  {
   "cell_type": "code",
   "execution_count": 23,
   "metadata": {},
   "outputs": [],
   "source": [
    "model.save(root + \"test.h5\")"
   ]
  },
  {
   "cell_type": "code",
   "execution_count": null,
   "metadata": {},
   "outputs": [],
   "source": []
  }
 ],
 "metadata": {
  "kernelspec": {
   "display_name": "Python 3",
   "language": "python",
   "name": "python3"
  },
  "language_info": {
   "codemirror_mode": {
    "name": "ipython",
    "version": 3
   },
   "file_extension": ".py",
   "mimetype": "text/x-python",
   "name": "python",
   "nbconvert_exporter": "python",
   "pygments_lexer": "ipython3",
   "version": "3.7.1"
  }
 },
 "nbformat": 4,
 "nbformat_minor": 2
}

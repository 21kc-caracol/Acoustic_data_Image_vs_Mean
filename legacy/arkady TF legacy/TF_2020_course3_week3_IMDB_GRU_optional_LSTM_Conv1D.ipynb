{
 "cells": [
  {
   "cell_type": "code",
   "execution_count": 1,
   "metadata": {},
   "outputs": [
    {
     "name": "stdout",
     "output_type": "stream",
     "text": [
      "2.0.0\n"
     ]
    }
   ],
   "source": [
    "# NOTE: PLEASE MAKE SURE YOU ARE RUNNING THIS IN A PYTHON3 ENVIRONMENT\n",
    "\n",
    "import tensorflow as tf\n",
    "print(tf.__version__)\n",
    "\n",
    "# This is needed for the iterator over the data\n",
    "# But not necessary if you have TF 2.0 installed\n",
    "#!pip install tensorflow==2.0.0-beta0\n",
    "\n",
    "\n",
    "#tf.enable_eager_execution()\n",
    "\n",
    "# !pip install -q tensorflow-datasets"
   ]
  },
  {
   "cell_type": "code",
   "execution_count": 2,
   "metadata": {},
   "outputs": [],
   "source": [
    "import tensorflow_datasets as tfds\n",
    "imdb, info = tfds.load(\"imdb_reviews\", with_info=True, as_supervised=True)"
   ]
  },
  {
   "cell_type": "code",
   "execution_count": 3,
   "metadata": {},
   "outputs": [],
   "source": [
    "import numpy as np\n",
    "\n",
    "train_data, test_data = imdb['train'], imdb['test']\n",
    "\n",
    "training_sentences = []\n",
    "training_labels = []\n",
    "\n",
    "testing_sentences = []\n",
    "testing_labels = []\n",
    "\n",
    "# str(s.tonumpy()) is needed in Python3 instead of just s.numpy()\n",
    "for s,l in train_data:\n",
    "  training_sentences.append(str(s.numpy()))\n",
    "  training_labels.append(l.numpy())\n",
    "  \n",
    "for s,l in test_data:\n",
    "  testing_sentences.append(str(s.numpy()))\n",
    "  testing_labels.append(l.numpy())\n",
    "  \n",
    "training_labels_final = np.array(training_labels)\n",
    "testing_labels_final = np.array(testing_labels)\n"
   ]
  },
  {
   "cell_type": "code",
   "execution_count": 4,
   "metadata": {},
   "outputs": [],
   "source": [
    "vocab_size = 10000\n",
    "embedding_dim = 16\n",
    "max_length = 120\n",
    "trunc_type='post'\n",
    "oov_tok = \"<OOV>\"\n",
    "\n",
    "\n",
    "from tensorflow.keras.preprocessing.text import Tokenizer\n",
    "from tensorflow.keras.preprocessing.sequence import pad_sequences\n",
    "\n",
    "tokenizer = Tokenizer(num_words = vocab_size, oov_token=oov_tok)\n",
    "tokenizer.fit_on_texts(training_sentences)\n",
    "word_index = tokenizer.word_index\n",
    "sequences = tokenizer.texts_to_sequences(training_sentences)\n",
    "padded = pad_sequences(sequences,maxlen=max_length, truncating=trunc_type)\n",
    "\n",
    "testing_sequences = tokenizer.texts_to_sequences(testing_sentences)\n",
    "testing_padded = pad_sequences(testing_sequences,maxlen=max_length)\n"
   ]
  },
  {
   "cell_type": "code",
   "execution_count": 5,
   "metadata": {},
   "outputs": [
    {
     "name": "stdout",
     "output_type": "stream",
     "text": [
      "b oh yeah jenna jameson did it again yeah baby this movie rocks it was one of the 1st movies i saw of her and i have to say i feel in love with her she was great in this move br br her performance was outstanding and what i liked the most was the scenery and the wardrobe it was amazing you can tell that they put a lot into the movie the girls cloth were amazing br br i hope this comment helps and u can buy the movie the storyline is awesome is very unique and i'm sure u are going to like it jenna amazed us once more and no wonder the movie won so many\n",
      "b\"Oh yeah! Jenna Jameson did it again! Yeah Baby! This movie rocks. It was one of the 1st movies i saw of her. And i have to say i feel in love with her, she was great in this move.<br /><br />Her performance was outstanding and what i liked the most was the scenery and the wardrobe it was amazing you can tell that they put a lot into the movie the girls cloth were amazing.<br /><br />I hope this comment helps and u can buy the movie, the storyline is awesome is very unique and i'm sure u are going to like it. Jenna amazed us once more and no wonder the movie won so many awards. Her make-up and wardrobe is very very sexy and the girls on girls scene is amazing. specially the one where she looks like an angel. It's a must see and i hope u share my interests\"\n"
     ]
    }
   ],
   "source": [
    "reverse_word_index = dict([(value, key) for (key, value) in word_index.items()])\n",
    "\n",
    "def decode_review(text):\n",
    "    return ' '.join([reverse_word_index.get(i, '?') for i in text])\n",
    "\n",
    "print(decode_review(padded[1]))\n",
    "print(training_sentences[1])"
   ]
  },
  {
   "cell_type": "code",
   "execution_count": 6,
   "metadata": {},
   "outputs": [
    {
     "name": "stdout",
     "output_type": "stream",
     "text": [
      "Model: \"sequential\"\n",
      "_________________________________________________________________\n",
      "Layer (type)                 Output Shape              Param #   \n",
      "=================================================================\n",
      "embedding (Embedding)        (None, 120, 16)           160000    \n",
      "_________________________________________________________________\n",
      "bidirectional (Bidirectional (None, 64)                9600      \n",
      "_________________________________________________________________\n",
      "dense (Dense)                (None, 6)                 390       \n",
      "_________________________________________________________________\n",
      "dense_1 (Dense)              (None, 1)                 7         \n",
      "=================================================================\n",
      "Total params: 169,997\n",
      "Trainable params: 169,997\n",
      "Non-trainable params: 0\n",
      "_________________________________________________________________\n"
     ]
    }
   ],
   "source": [
    "model = tf.keras.Sequential([\n",
    "    tf.keras.layers.Embedding(vocab_size, embedding_dim, input_length=max_length),\n",
    "    tf.keras.layers.Bidirectional(tf.keras.layers.GRU(32)),\n",
    "    tf.keras.layers.Dense(6, activation='relu'),\n",
    "    tf.keras.layers.Dense(1, activation='sigmoid')\n",
    "])\n",
    "model.compile(loss='binary_crossentropy',optimizer='adam',metrics=['accuracy'])\n",
    "model.summary()\n"
   ]
  },
  {
   "cell_type": "code",
   "execution_count": 7,
   "metadata": {},
   "outputs": [
    {
     "name": "stdout",
     "output_type": "stream",
     "text": [
      "Train on 25000 samples, validate on 25000 samples\n",
      "Epoch 1/50\n",
      "25000/25000 [==============================] - 64s 3ms/sample - loss: 0.5195 - accuracy: 0.7239 - val_loss: 0.3835 - val_accuracy: 0.8370\n",
      "Epoch 2/50\n",
      "25000/25000 [==============================] - 60s 2ms/sample - loss: 0.3127 - accuracy: 0.8740 - val_loss: 0.3460 - val_accuracy: 0.8508\n",
      "Epoch 3/50\n",
      "25000/25000 [==============================] - 60s 2ms/sample - loss: 0.2477 - accuracy: 0.9056 - val_loss: 0.3869 - val_accuracy: 0.8366\n",
      "Epoch 4/50\n",
      "25000/25000 [==============================] - 60s 2ms/sample - loss: 0.2011 - accuracy: 0.9272 - val_loss: 0.3903 - val_accuracy: 0.8332\n",
      "Epoch 5/50\n",
      "25000/25000 [==============================] - 60s 2ms/sample - loss: 0.1610 - accuracy: 0.9462 - val_loss: 0.4350 - val_accuracy: 0.8338\n",
      "Epoch 6/50\n",
      "25000/25000 [==============================] - 60s 2ms/sample - loss: 0.1345 - accuracy: 0.9555 - val_loss: 0.5211 - val_accuracy: 0.8241\n",
      "Epoch 7/50\n",
      "25000/25000 [==============================] - 60s 2ms/sample - loss: 0.1073 - accuracy: 0.9657 - val_loss: 0.5240 - val_accuracy: 0.8207\n",
      "Epoch 8/50\n",
      "25000/25000 [==============================] - 60s 2ms/sample - loss: 0.0818 - accuracy: 0.9749 - val_loss: 0.5423 - val_accuracy: 0.8238\n",
      "Epoch 9/50\n",
      "25000/25000 [==============================] - 61s 2ms/sample - loss: 0.0689 - accuracy: 0.9789 - val_loss: 0.6192 - val_accuracy: 0.8206\n",
      "Epoch 10/50\n",
      "25000/25000 [==============================] - 61s 2ms/sample - loss: 0.0506 - accuracy: 0.9846 - val_loss: 0.6991 - val_accuracy: 0.8154\n",
      "Epoch 11/50\n",
      "25000/25000 [==============================] - 58s 2ms/sample - loss: 0.0509 - accuracy: 0.9847 - val_loss: 0.6999 - val_accuracy: 0.8208\n",
      "Epoch 12/50\n",
      "25000/25000 [==============================] - 56s 2ms/sample - loss: 0.0350 - accuracy: 0.9895 - val_loss: 0.8087 - val_accuracy: 0.8130\n",
      "Epoch 13/50\n",
      "25000/25000 [==============================] - 56s 2ms/sample - loss: 0.0286 - accuracy: 0.9920 - val_loss: 0.8320 - val_accuracy: 0.8162\n",
      "Epoch 14/50\n",
      "25000/25000 [==============================] - 56s 2ms/sample - loss: 0.0255 - accuracy: 0.9925 - val_loss: 0.8935 - val_accuracy: 0.8164\n",
      "Epoch 15/50\n",
      "25000/25000 [==============================] - 56s 2ms/sample - loss: 0.0224 - accuracy: 0.9935 - val_loss: 0.8939 - val_accuracy: 0.8139\n",
      "Epoch 16/50\n",
      "25000/25000 [==============================] - 57s 2ms/sample - loss: 0.0210 - accuracy: 0.9936 - val_loss: 1.0837 - val_accuracy: 0.8142\n",
      "Epoch 17/50\n",
      "25000/25000 [==============================] - 55s 2ms/sample - loss: 0.0108 - accuracy: 0.9969 - val_loss: 1.3823 - val_accuracy: 0.8080\n",
      "Epoch 18/50\n",
      "25000/25000 [==============================] - 55s 2ms/sample - loss: 0.0169 - accuracy: 0.9950 - val_loss: 0.9744 - val_accuracy: 0.8060\n",
      "Epoch 19/50\n",
      "25000/25000 [==============================] - 59s 2ms/sample - loss: 0.0136 - accuracy: 0.9961 - val_loss: 1.1307 - val_accuracy: 0.8066\n",
      "Epoch 20/50\n",
      "25000/25000 [==============================] - 55s 2ms/sample - loss: 0.0138 - accuracy: 0.9958 - val_loss: 1.1733 - val_accuracy: 0.8088\n",
      "Epoch 21/50\n",
      "25000/25000 [==============================] - 55s 2ms/sample - loss: 0.0107 - accuracy: 0.9969 - val_loss: 1.2585 - val_accuracy: 0.8080\n",
      "Epoch 22/50\n",
      "25000/25000 [==============================] - 55s 2ms/sample - loss: 0.0066 - accuracy: 0.9978 - val_loss: 1.2914 - val_accuracy: 0.8099\n",
      "Epoch 23/50\n",
      "25000/25000 [==============================] - 55s 2ms/sample - loss: 0.0088 - accuracy: 0.9975 - val_loss: 1.1840 - val_accuracy: 0.8032\n",
      "Epoch 24/50\n",
      "25000/25000 [==============================] - 55s 2ms/sample - loss: 0.0079 - accuracy: 0.9979 - val_loss: 1.5347 - val_accuracy: 0.8059\n",
      "Epoch 25/50\n",
      "25000/25000 [==============================] - 57s 2ms/sample - loss: 0.0089 - accuracy: 0.9973 - val_loss: 1.3837 - val_accuracy: 0.8066\n",
      "Epoch 26/50\n",
      "25000/25000 [==============================] - 55s 2ms/sample - loss: 0.0027 - accuracy: 0.9994 - val_loss: 1.3751 - val_accuracy: 0.8096\n",
      "Epoch 27/50\n",
      "25000/25000 [==============================] - 55s 2ms/sample - loss: 0.0065 - accuracy: 0.9980 - val_loss: 1.3844 - val_accuracy: 0.8081\n",
      "Epoch 28/50\n",
      "25000/25000 [==============================] - 56s 2ms/sample - loss: 0.0120 - accuracy: 0.9962 - val_loss: 1.2716 - val_accuracy: 0.8060\n",
      "Epoch 29/50\n",
      "25000/25000 [==============================] - 55s 2ms/sample - loss: 0.0023 - accuracy: 0.9994 - val_loss: 1.4322 - val_accuracy: 0.8088\n",
      "Epoch 30/50\n",
      "25000/25000 [==============================] - 55s 2ms/sample - loss: 0.0022 - accuracy: 0.9994 - val_loss: 1.5605 - val_accuracy: 0.8101\n",
      "Epoch 31/50\n",
      "25000/25000 [==============================] - 55s 2ms/sample - loss: 3.9412e-04 - accuracy: 0.9999 - val_loss: 1.7033 - val_accuracy: 0.8071\n",
      "Epoch 32/50\n",
      "25000/25000 [==============================] - 55s 2ms/sample - loss: 0.0140 - accuracy: 0.9961 - val_loss: 1.4763 - val_accuracy: 0.8073\n",
      "Epoch 33/50\n",
      "25000/25000 [==============================] - 55s 2ms/sample - loss: 0.0074 - accuracy: 0.9977 - val_loss: 1.3906 - val_accuracy: 0.8034\n",
      "Epoch 34/50\n",
      "25000/25000 [==============================] - 55s 2ms/sample - loss: 0.0064 - accuracy: 0.9979 - val_loss: 1.4183 - val_accuracy: 0.8068\n",
      "Epoch 35/50\n",
      "25000/25000 [==============================] - 55s 2ms/sample - loss: 0.0017 - accuracy: 0.9995 - val_loss: 1.3873 - val_accuracy: 0.7986\n",
      "Epoch 36/50\n",
      "25000/25000 [==============================] - 55s 2ms/sample - loss: 0.0021 - accuracy: 0.9996 - val_loss: 1.5213 - val_accuracy: 0.8088\n",
      "Epoch 37/50\n",
      "25000/25000 [==============================] - 57s 2ms/sample - loss: 0.0070 - accuracy: 0.9978 - val_loss: 1.4157 - val_accuracy: 0.7992\n",
      "Epoch 38/50\n",
      "25000/25000 [==============================] - 55s 2ms/sample - loss: 0.0056 - accuracy: 0.9984 - val_loss: 1.3657 - val_accuracy: 0.8026\n",
      "Epoch 39/50\n",
      "25000/25000 [==============================] - 55s 2ms/sample - loss: 0.0014 - accuracy: 0.9996 - val_loss: 1.5996 - val_accuracy: 0.8024\n",
      "Epoch 40/50\n",
      "25000/25000 [==============================] - 57s 2ms/sample - loss: 0.0041 - accuracy: 0.9989 - val_loss: 1.4422 - val_accuracy: 0.8019\n",
      "Epoch 41/50\n",
      "25000/25000 [==============================] - 56s 2ms/sample - loss: 0.0020 - accuracy: 0.9995 - val_loss: 1.6112 - val_accuracy: 0.7993\n",
      "Epoch 42/50\n",
      "25000/25000 [==============================] - 55s 2ms/sample - loss: 0.0056 - accuracy: 0.9985 - val_loss: 1.5990 - val_accuracy: 0.8051\n",
      "Epoch 43/50\n",
      "25000/25000 [==============================] - 55s 2ms/sample - loss: 0.0052 - accuracy: 0.9986 - val_loss: 1.4317 - val_accuracy: 0.8028\n",
      "Epoch 44/50\n",
      "25000/25000 [==============================] - 55s 2ms/sample - loss: 0.0012 - accuracy: 0.9998 - val_loss: 1.4699 - val_accuracy: 0.8050\n",
      "Epoch 45/50\n",
      "25000/25000 [==============================] - 55s 2ms/sample - loss: 0.0023 - accuracy: 0.9994 - val_loss: 1.5501 - val_accuracy: 0.8074\n",
      "Epoch 46/50\n",
      "25000/25000 [==============================] - 56s 2ms/sample - loss: 7.4154e-04 - accuracy: 0.9997 - val_loss: 1.6224 - val_accuracy: 0.8052\n",
      "Epoch 47/50\n",
      "25000/25000 [==============================] - 56s 2ms/sample - loss: 0.0028 - accuracy: 0.9988 - val_loss: 1.7390 - val_accuracy: 0.8058\n",
      "Epoch 48/50\n",
      "25000/25000 [==============================] - 55s 2ms/sample - loss: 6.6313e-04 - accuracy: 0.9998 - val_loss: 1.7707 - val_accuracy: 0.8022\n",
      "Epoch 49/50\n",
      "25000/25000 [==============================] - 55s 2ms/sample - loss: 3.6114e-05 - accuracy: 1.0000 - val_loss: 1.8232 - val_accuracy: 0.8030\n",
      "Epoch 50/50\n",
      "25000/25000 [==============================] - 56s 2ms/sample - loss: 1.7573e-05 - accuracy: 1.0000 - val_loss: 1.8763 - val_accuracy: 0.8032\n"
     ]
    }
   ],
   "source": [
    "num_epochs = 50\n",
    "history = model.fit(padded, training_labels_final, epochs=num_epochs, validation_data=(testing_padded, testing_labels_final))"
   ]
  },
  {
   "cell_type": "code",
   "execution_count": 8,
   "metadata": {},
   "outputs": [],
   "source": [
    "import matplotlib.pyplot as plt\n",
    "\n",
    "\n",
    "def plot_graphs(history, string):\n",
    "  plt.plot(history.history[string])\n",
    "  plt.plot(history.history['val_'+string])\n",
    "  plt.xlabel(\"Epochs\")\n",
    "  plt.ylabel(string)\n",
    "  plt.legend([string, 'val_'+string])\n",
    "  plt.show()"
   ]
  },
  {
   "cell_type": "code",
   "execution_count": 9,
   "metadata": {},
   "outputs": [
    {
     "data": {
      "image/png": "[encoded data removed]",
      "text/plain": [
       "<Figure size 432x288 with 1 Axes>"
      ]
     },
     "metadata": {
      "needs_background": "light"
     },
     "output_type": "display_data"
    },
    {
     "data": {
      "image/png": "[encoded data removed]",
      "text/plain": [
       "<Figure size 432x288 with 1 Axes>"
      ]
     },
     "metadata": {
      "needs_background": "light"
     },
     "output_type": "display_data"
    }
   ],
   "source": [
    "plot_graphs(history, 'accuracy')\n",
    "plot_graphs(history, 'loss')"
   ]
  },
  {
   "cell_type": "code",
   "execution_count": 10,
   "metadata": {},
   "outputs": [
    {
     "name": "stdout",
     "output_type": "stream",
     "text": [
      "Model: \"sequential_1\"\n",
      "_________________________________________________________________\n",
      "Layer (type)                 Output Shape              Param #   \n",
      "=================================================================\n",
      "embedding_1 (Embedding)      (None, 120, 16)           160000    \n",
      "_________________________________________________________________\n",
      "bidirectional_1 (Bidirection (None, 64)                12544     \n",
      "_________________________________________________________________\n",
      "dense_2 (Dense)              (None, 6)                 390       \n",
      "_________________________________________________________________\n",
      "dense_3 (Dense)              (None, 1)                 7         \n",
      "=================================================================\n",
      "Total params: 172,941\n",
      "Trainable params: 172,941\n",
      "Non-trainable params: 0\n",
      "_________________________________________________________________\n"
     ]
    }
   ],
   "source": [
    "# Model Definition with LSTM\n",
    "model = tf.keras.Sequential([\n",
    "    tf.keras.layers.Embedding(vocab_size, embedding_dim, input_length=max_length),\n",
    "    tf.keras.layers.Bidirectional(tf.keras.layers.LSTM(32)),\n",
    "    tf.keras.layers.Dense(6, activation='relu'),\n",
    "    tf.keras.layers.Dense(1, activation='sigmoid')\n",
    "])\n",
    "model.compile(loss='binary_crossentropy',optimizer='adam',metrics=['accuracy'])\n",
    "model.summary()"
   ]
  },
  {
   "cell_type": "code",
   "execution_count": 11,
   "metadata": {},
   "outputs": [
    {
     "name": "stdout",
     "output_type": "stream",
     "text": [
      "Train on 25000 samples, validate on 25000 samples\n",
      "Epoch 1/50\n",
      "25000/25000 [==============================] - 59s 2ms/sample - loss: 0.4679 - accuracy: 0.7698 - val_loss: 0.3514 - val_accuracy: 0.8418\n",
      "Epoch 2/50\n",
      "25000/25000 [==============================] - 55s 2ms/sample - loss: 0.2958 - accuracy: 0.8804 - val_loss: 0.3548 - val_accuracy: 0.8456\n",
      "Epoch 3/50\n",
      "25000/25000 [==============================] - 55s 2ms/sample - loss: 0.2372 - accuracy: 0.9094 - val_loss: 0.3727 - val_accuracy: 0.8400\n",
      "Epoch 4/50\n",
      "25000/25000 [==============================] - 54s 2ms/sample - loss: 0.1921 - accuracy: 0.9289 - val_loss: 0.4680 - val_accuracy: 0.8186\n",
      "Epoch 5/50\n",
      "25000/25000 [==============================] - 55s 2ms/sample - loss: 0.1489 - accuracy: 0.9468 - val_loss: 0.4917 - val_accuracy: 0.8210\n",
      "Epoch 6/50\n",
      "25000/25000 [==============================] - 53s 2ms/sample - loss: 0.1124 - accuracy: 0.9611 - val_loss: 0.4873 - val_accuracy: 0.8246\n",
      "Epoch 7/50\n",
      "25000/25000 [==============================] - 52s 2ms/sample - loss: 0.0810 - accuracy: 0.9729 - val_loss: 0.6042 - val_accuracy: 0.8210\n",
      "Epoch 8/50\n",
      "25000/25000 [==============================] - 52s 2ms/sample - loss: 0.0676 - accuracy: 0.9766 - val_loss: 0.6380 - val_accuracy: 0.8197\n",
      "Epoch 9/50\n",
      "25000/25000 [==============================] - 52s 2ms/sample - loss: 0.0460 - accuracy: 0.9839 - val_loss: 0.7563 - val_accuracy: 0.8110\n",
      "Epoch 10/50\n",
      "25000/25000 [==============================] - 52s 2ms/sample - loss: 0.0354 - accuracy: 0.9886 - val_loss: 0.7917 - val_accuracy: 0.8145\n",
      "Epoch 11/50\n",
      "25000/25000 [==============================] - 52s 2ms/sample - loss: 0.0351 - accuracy: 0.9893 - val_loss: 0.8570 - val_accuracy: 0.8135\n",
      "Epoch 12/50\n",
      "25000/25000 [==============================] - 52s 2ms/sample - loss: 0.0226 - accuracy: 0.9929 - val_loss: 0.9221 - val_accuracy: 0.8148\n",
      "Epoch 13/50\n",
      "25000/25000 [==============================] - 52s 2ms/sample - loss: 0.0236 - accuracy: 0.9924 - val_loss: 1.0499 - val_accuracy: 0.8037\n",
      "Epoch 14/50\n",
      "25000/25000 [==============================] - 52s 2ms/sample - loss: 0.0212 - accuracy: 0.9928 - val_loss: 0.9744 - val_accuracy: 0.8108\n",
      "Epoch 15/50\n",
      "25000/25000 [==============================] - 52s 2ms/sample - loss: 0.0161 - accuracy: 0.9943 - val_loss: 0.9123 - val_accuracy: 0.8112\n",
      "Epoch 16/50\n",
      "25000/25000 [==============================] - 52s 2ms/sample - loss: 0.0263 - accuracy: 0.9909 - val_loss: 1.1312 - val_accuracy: 0.8106\n",
      "Epoch 17/50\n",
      "25000/25000 [==============================] - 52s 2ms/sample - loss: 0.0247 - accuracy: 0.9918 - val_loss: 0.9706 - val_accuracy: 0.8134\n",
      "Epoch 18/50\n",
      "25000/25000 [==============================] - 52s 2ms/sample - loss: 0.0057 - accuracy: 0.9984 - val_loss: 1.1480 - val_accuracy: 0.8061\n",
      "Epoch 19/50\n",
      "25000/25000 [==============================] - 52s 2ms/sample - loss: 0.0074 - accuracy: 0.9980 - val_loss: 1.0762 - val_accuracy: 0.8147\n",
      "Epoch 20/50\n",
      "25000/25000 [==============================] - 52s 2ms/sample - loss: 0.0139 - accuracy: 0.9952 - val_loss: 1.0247 - val_accuracy: 0.8110\n",
      "Epoch 21/50\n",
      "25000/25000 [==============================] - 52s 2ms/sample - loss: 0.0128 - accuracy: 0.9960 - val_loss: 1.1419 - val_accuracy: 0.8132\n",
      "Epoch 22/50\n",
      "25000/25000 [==============================] - 54s 2ms/sample - loss: 0.0114 - accuracy: 0.9960 - val_loss: 1.1473 - val_accuracy: 0.8147\n",
      "Epoch 23/50\n",
      "25000/25000 [==============================] - 57s 2ms/sample - loss: 0.0055 - accuracy: 0.9982 - val_loss: 1.1739 - val_accuracy: 0.8138\n",
      "Epoch 24/50\n",
      "25000/25000 [==============================] - 55s 2ms/sample - loss: 0.0092 - accuracy: 0.9971 - val_loss: 1.1224 - val_accuracy: 0.8067\n",
      "Epoch 25/50\n",
      "25000/25000 [==============================] - 54s 2ms/sample - loss: 0.0109 - accuracy: 0.9962 - val_loss: 1.1141 - val_accuracy: 0.8126\n",
      "Epoch 26/50\n",
      "25000/25000 [==============================] - 54s 2ms/sample - loss: 0.0064 - accuracy: 0.9981 - val_loss: 1.1662 - val_accuracy: 0.8060\n",
      "Epoch 27/50\n",
      "25000/25000 [==============================] - 56s 2ms/sample - loss: 0.0094 - accuracy: 0.9969 - val_loss: 1.2387 - val_accuracy: 0.8156\n",
      "Epoch 28/50\n",
      "25000/25000 [==============================] - 56s 2ms/sample - loss: 0.0052 - accuracy: 0.9983 - val_loss: 1.4359 - val_accuracy: 0.8131\n",
      "Epoch 29/50\n",
      "25000/25000 [==============================] - 56s 2ms/sample - loss: 0.0047 - accuracy: 0.9986 - val_loss: 1.2699 - val_accuracy: 0.8071\n",
      "Epoch 30/50\n",
      "25000/25000 [==============================] - 54s 2ms/sample - loss: 0.0077 - accuracy: 0.9971 - val_loss: 1.2994 - val_accuracy: 0.8042\n",
      "Epoch 31/50\n",
      "25000/25000 [==============================] - 53s 2ms/sample - loss: 0.0098 - accuracy: 0.9968 - val_loss: 1.2237 - val_accuracy: 0.8065\n",
      "Epoch 32/50\n",
      "25000/25000 [==============================] - 58s 2ms/sample - loss: 0.0056 - accuracy: 0.9987 - val_loss: 1.3483 - val_accuracy: 0.8078\n",
      "Epoch 33/50\n",
      "25000/25000 [==============================] - 57s 2ms/sample - loss: 0.0010 - accuracy: 0.9997 - val_loss: 1.2984 - val_accuracy: 0.7986\n",
      "Epoch 34/50\n",
      "25000/25000 [==============================] - 57s 2ms/sample - loss: 0.0056 - accuracy: 0.9985 - val_loss: 1.2941 - val_accuracy: 0.8031\n",
      "Epoch 35/50\n",
      "25000/25000 [==============================] - 57s 2ms/sample - loss: 0.0053 - accuracy: 0.9983 - val_loss: 1.4673 - val_accuracy: 0.8087\n",
      "Epoch 36/50\n",
      "25000/25000 [==============================] - 58s 2ms/sample - loss: 0.0091 - accuracy: 0.9977 - val_loss: 1.4162 - val_accuracy: 0.8140\n",
      "Epoch 37/50\n",
      "25000/25000 [==============================] - 58s 2ms/sample - loss: 0.0028 - accuracy: 0.9991 - val_loss: 1.3837 - val_accuracy: 0.8105\n",
      "Epoch 38/50\n",
      "25000/25000 [==============================] - 57s 2ms/sample - loss: 0.0056 - accuracy: 0.9982 - val_loss: 1.4530 - val_accuracy: 0.8092\n",
      "Epoch 39/50\n",
      "25000/25000 [==============================] - 57s 2ms/sample - loss: 0.0039 - accuracy: 0.9989 - val_loss: 1.3810 - val_accuracy: 0.8033\n",
      "Epoch 40/50\n",
      "25000/25000 [==============================] - 57s 2ms/sample - loss: 0.0085 - accuracy: 0.9977 - val_loss: 1.3032 - val_accuracy: 0.8097\n",
      "Epoch 41/50\n",
      "25000/25000 [==============================] - 55s 2ms/sample - loss: 9.4532e-04 - accuracy: 0.9998 - val_loss: 1.4957 - val_accuracy: 0.8084\n",
      "Epoch 42/50\n",
      "25000/25000 [==============================] - 57s 2ms/sample - loss: 3.8781e-04 - accuracy: 0.9998 - val_loss: 1.5401 - val_accuracy: 0.8130\n",
      "Epoch 43/50\n",
      "25000/25000 [==============================] - 56s 2ms/sample - loss: 5.1152e-05 - accuracy: 1.0000 - val_loss: 1.6156 - val_accuracy: 0.8108\n",
      "Epoch 44/50\n",
      "25000/25000 [==============================] - 58s 2ms/sample - loss: 2.9432e-05 - accuracy: 1.0000 - val_loss: 1.6855 - val_accuracy: 0.8114\n",
      "Epoch 45/50\n",
      "25000/25000 [==============================] - 58s 2ms/sample - loss: 1.9042e-05 - accuracy: 1.0000 - val_loss: 1.7515 - val_accuracy: 0.8119\n",
      "Epoch 46/50\n",
      "25000/25000 [==============================] - 57s 2ms/sample - loss: 1.2584e-05 - accuracy: 1.0000 - val_loss: 1.8192 - val_accuracy: 0.8118\n",
      "Epoch 47/50\n",
      "25000/25000 [==============================] - 57s 2ms/sample - loss: 8.3250e-06 - accuracy: 1.0000 - val_loss: 1.8872 - val_accuracy: 0.8121\n",
      "Epoch 48/50\n",
      "25000/25000 [==============================] - 57s 2ms/sample - loss: 5.4998e-06 - accuracy: 1.0000 - val_loss: 1.9555 - val_accuracy: 0.8120\n",
      "Epoch 49/50\n",
      "25000/25000 [==============================] - 55s 2ms/sample - loss: 3.6258e-06 - accuracy: 1.0000 - val_loss: 2.0225 - val_accuracy: 0.8118\n",
      "Epoch 50/50\n",
      "25000/25000 [==============================] - 55s 2ms/sample - loss: 2.3689e-06 - accuracy: 1.0000 - val_loss: 2.0964 - val_accuracy: 0.8117\n"
     ]
    }
   ],
   "source": [
    "num_epochs = 50\n",
    "history = model.fit(padded, training_labels_final, epochs=num_epochs, validation_data=(testing_padded, testing_labels_final))"
   ]
  },
  {
   "cell_type": "code",
   "execution_count": 12,
   "metadata": {},
   "outputs": [
    {
     "data": {
      "image/png": "[encoded data removed]",
      "text/plain": [
       "<Figure size 432x288 with 1 Axes>"
      ]
     },
     "metadata": {
      "needs_background": "light"
     },
     "output_type": "display_data"
    },
    {
     "data": {
      "image/png": "[encoded data removed]",
      "text/plain": [
       "<Figure size 432x288 with 1 Axes>"
      ]
     },
     "metadata": {
      "needs_background": "light"
     },
     "output_type": "display_data"
    }
   ],
   "source": [
    "plot_graphs(history, 'accuracy')\n",
    "plot_graphs(history, 'loss')"
   ]
  },
  {
   "cell_type": "code",
   "execution_count": 13,
   "metadata": {},
   "outputs": [
    {
     "name": "stdout",
     "output_type": "stream",
     "text": [
      "Model: \"sequential_2\"\n",
      "_________________________________________________________________\n",
      "Layer (type)                 Output Shape              Param #   \n",
      "=================================================================\n",
      "embedding_2 (Embedding)      (None, 120, 16)           160000    \n",
      "_________________________________________________________________\n",
      "conv1d (Conv1D)              (None, 116, 128)          10368     \n",
      "_________________________________________________________________\n",
      "global_average_pooling1d (Gl (None, 128)               0         \n",
      "_________________________________________________________________\n",
      "dense_4 (Dense)              (None, 6)                 774       \n",
      "_________________________________________________________________\n",
      "dense_5 (Dense)              (None, 1)                 7         \n",
      "=================================================================\n",
      "Total params: 171,149\n",
      "Trainable params: 171,149\n",
      "Non-trainable params: 0\n",
      "_________________________________________________________________\n"
     ]
    }
   ],
   "source": [
    "# Model Definition with Conv1D\n",
    "model = tf.keras.Sequential([\n",
    "    tf.keras.layers.Embedding(vocab_size, embedding_dim, input_length=max_length),\n",
    "    tf.keras.layers.Conv1D(128, 5, activation='relu'),\n",
    "    tf.keras.layers.GlobalAveragePooling1D(),\n",
    "    tf.keras.layers.Dense(6, activation='relu'),\n",
    "    tf.keras.layers.Dense(1, activation='sigmoid')\n",
    "])\n",
    "model.compile(loss='binary_crossentropy',optimizer='adam',metrics=['accuracy'])\n",
    "model.summary()\n"
   ]
  },
  {
   "cell_type": "code",
   "execution_count": 14,
   "metadata": {},
   "outputs": [
    {
     "name": "stdout",
     "output_type": "stream",
     "text": [
      "Train on 25000 samples, validate on 25000 samples\n",
      "Epoch 1/50\n",
      "25000/25000 [==============================] - 14s 564us/sample - loss: 0.4419 - accuracy: 0.7883 - val_loss: 0.3428 - val_accuracy: 0.8520\n",
      "Epoch 2/50\n",
      "25000/25000 [==============================] - 9s 372us/sample - loss: 0.2783 - accuracy: 0.8860 - val_loss: 0.3501 - val_accuracy: 0.8483\n",
      "Epoch 3/50\n",
      "25000/25000 [==============================] - 9s 374us/sample - loss: 0.2220 - accuracy: 0.9144 - val_loss: 0.3935 - val_accuracy: 0.8317\n",
      "Epoch 4/50\n",
      "25000/25000 [==============================] - 10s 398us/sample - loss: 0.1833 - accuracy: 0.9335 - val_loss: 0.4324 - val_accuracy: 0.8250\n",
      "Epoch 5/50\n",
      "25000/25000 [==============================] - 10s 381us/sample - loss: 0.1490 - accuracy: 0.9478 - val_loss: 0.4903 - val_accuracy: 0.8255\n",
      "Epoch 6/50\n",
      "25000/25000 [==============================] - 9s 373us/sample - loss: 0.1205 - accuracy: 0.9596 - val_loss: 0.5333 - val_accuracy: 0.8174\n",
      "Epoch 7/50\n",
      "25000/25000 [==============================] - 10s 392us/sample - loss: 0.0941 - accuracy: 0.9697 - val_loss: 0.6318 - val_accuracy: 0.8164\n",
      "Epoch 8/50\n",
      "25000/25000 [==============================] - 10s 398us/sample - loss: 0.0730 - accuracy: 0.9794 - val_loss: 0.7187 - val_accuracy: 0.8086\n",
      "Epoch 9/50\n",
      "25000/25000 [==============================] - 9s 375us/sample - loss: 0.0562 - accuracy: 0.9844 - val_loss: 0.8638 - val_accuracy: 0.8100\n",
      "Epoch 10/50\n",
      "25000/25000 [==============================] - 9s 379us/sample - loss: 0.0468 - accuracy: 0.9867 - val_loss: 0.9538 - val_accuracy: 0.8071\n",
      "Epoch 11/50\n",
      "25000/25000 [==============================] - 10s 381us/sample - loss: 0.0350 - accuracy: 0.9908 - val_loss: 0.9880 - val_accuracy: 0.8013\n",
      "Epoch 12/50\n",
      "25000/25000 [==============================] - 9s 379us/sample - loss: 0.0279 - accuracy: 0.9922 - val_loss: 1.1116 - val_accuracy: 0.8002\n",
      "Epoch 13/50\n",
      "25000/25000 [==============================] - 10s 383us/sample - loss: 0.0227 - accuracy: 0.9934 - val_loss: 1.2224 - val_accuracy: 0.7992\n",
      "Epoch 14/50\n",
      "25000/25000 [==============================] - 9s 378us/sample - loss: 0.0216 - accuracy: 0.9928 - val_loss: 1.2871 - val_accuracy: 0.8019\n",
      "Epoch 15/50\n",
      "25000/25000 [==============================] - 9s 374us/sample - loss: 0.0171 - accuracy: 0.9946 - val_loss: 1.3934 - val_accuracy: 0.8030\n",
      "Epoch 16/50\n",
      "25000/25000 [==============================] - 9s 377us/sample - loss: 0.0130 - accuracy: 0.9962 - val_loss: 1.5299 - val_accuracy: 0.8036\n",
      "Epoch 17/50\n",
      "25000/25000 [==============================] - 10s 381us/sample - loss: 0.0080 - accuracy: 0.9973 - val_loss: 1.5890 - val_accuracy: 0.7986\n",
      "Epoch 18/50\n",
      "25000/25000 [==============================] - 9s 379us/sample - loss: 0.0071 - accuracy: 0.9976 - val_loss: 1.7325 - val_accuracy: 0.8009\n",
      "Epoch 19/50\n",
      "25000/25000 [==============================] - 9s 378us/sample - loss: 0.0088 - accuracy: 0.9969 - val_loss: 1.7737 - val_accuracy: 0.8014\n",
      "Epoch 20/50\n",
      "25000/25000 [==============================] - 9s 380us/sample - loss: 0.0085 - accuracy: 0.9973 - val_loss: 1.7923 - val_accuracy: 0.7972\n",
      "Epoch 21/50\n",
      "25000/25000 [==============================] - 9s 377us/sample - loss: 0.0070 - accuracy: 0.9977 - val_loss: 1.9609 - val_accuracy: 0.8001\n",
      "Epoch 22/50\n",
      "25000/25000 [==============================] - 9s 377us/sample - loss: 0.0075 - accuracy: 0.9974 - val_loss: 2.0202 - val_accuracy: 0.8008\n",
      "Epoch 23/50\n",
      "25000/25000 [==============================] - 9s 373us/sample - loss: 0.0047 - accuracy: 0.9986 - val_loss: 2.0574 - val_accuracy: 0.8004\n",
      "Epoch 24/50\n",
      "25000/25000 [==============================] - 9s 374us/sample - loss: 0.0053 - accuracy: 0.9982 - val_loss: 2.0548 - val_accuracy: 0.8016\n",
      "Epoch 25/50\n",
      "25000/25000 [==============================] - 10s 393us/sample - loss: 0.0044 - accuracy: 0.9986 - val_loss: 2.1048 - val_accuracy: 0.8017\n",
      "Epoch 26/50\n",
      "25000/25000 [==============================] - 10s 394us/sample - loss: 0.0057 - accuracy: 0.9979 - val_loss: 2.1081 - val_accuracy: 0.8024\n",
      "Epoch 27/50\n",
      "25000/25000 [==============================] - 9s 378us/sample - loss: 0.0077 - accuracy: 0.9970 - val_loss: 2.1034 - val_accuracy: 0.8031\n",
      "Epoch 28/50\n",
      "25000/25000 [==============================] - 10s 380us/sample - loss: 0.0025 - accuracy: 0.9993 - val_loss: 2.2597 - val_accuracy: 0.8035\n",
      "Epoch 29/50\n",
      "25000/25000 [==============================] - 10s 380us/sample - loss: 7.0659e-04 - accuracy: 0.9998 - val_loss: 2.2306 - val_accuracy: 0.8038\n",
      "Epoch 30/50\n",
      "25000/25000 [==============================] - 10s 381us/sample - loss: 1.0906e-04 - accuracy: 1.0000 - val_loss: 2.2959 - val_accuracy: 0.8040\n",
      "Epoch 31/50\n",
      "25000/25000 [==============================] - 10s 383us/sample - loss: 4.9220e-05 - accuracy: 1.0000 - val_loss: 2.3352 - val_accuracy: 0.8036\n",
      "Epoch 32/50\n",
      "25000/25000 [==============================] - 9s 375us/sample - loss: 3.4480e-05 - accuracy: 1.0000 - val_loss: 2.3820 - val_accuracy: 0.8034\n",
      "Epoch 33/50\n",
      "25000/25000 [==============================] - 9s 379us/sample - loss: 2.4797e-05 - accuracy: 1.0000 - val_loss: 2.4410 - val_accuracy: 0.8043\n",
      "Epoch 34/50\n",
      "25000/25000 [==============================] - 9s 380us/sample - loss: 1.8069e-05 - accuracy: 1.0000 - val_loss: 2.4956 - val_accuracy: 0.8038\n",
      "Epoch 35/50\n",
      "25000/25000 [==============================] - 9s 380us/sample - loss: 1.2966e-05 - accuracy: 1.0000 - val_loss: 2.5613 - val_accuracy: 0.8040\n",
      "Epoch 36/50\n",
      "25000/25000 [==============================] - 10s 385us/sample - loss: 9.2281e-06 - accuracy: 1.0000 - val_loss: 2.6315 - val_accuracy: 0.8044\n",
      "Epoch 37/50\n",
      "25000/25000 [==============================] - 9s 375us/sample - loss: 6.3184e-06 - accuracy: 1.0000 - val_loss: 2.6988 - val_accuracy: 0.8046\n",
      "Epoch 38/50\n",
      "25000/25000 [==============================] - 10s 386us/sample - loss: 4.3639e-06 - accuracy: 1.0000 - val_loss: 2.7657 - val_accuracy: 0.8044\n",
      "Epoch 39/50\n",
      "25000/25000 [==============================] - 9s 376us/sample - loss: 3.0416e-06 - accuracy: 1.0000 - val_loss: 2.8436 - val_accuracy: 0.8042\n",
      "Epoch 40/50\n",
      "25000/25000 [==============================] - 10s 383us/sample - loss: 2.0264e-06 - accuracy: 1.0000 - val_loss: 2.9193 - val_accuracy: 0.8040\n",
      "Epoch 41/50\n",
      "25000/25000 [==============================] - 9s 376us/sample - loss: 1.3617e-06 - accuracy: 1.0000 - val_loss: 2.9971 - val_accuracy: 0.8039\n",
      "Epoch 42/50\n",
      "25000/25000 [==============================] - 10s 381us/sample - loss: 9.3607e-07 - accuracy: 1.0000 - val_loss: 3.0764 - val_accuracy: 0.8040\n",
      "Epoch 43/50\n",
      "25000/25000 [==============================] - 10s 386us/sample - loss: 6.2363e-07 - accuracy: 1.0000 - val_loss: 3.1617 - val_accuracy: 0.8044\n",
      "Epoch 44/50\n",
      "25000/25000 [==============================] - 10s 383us/sample - loss: 4.1998e-07 - accuracy: 1.0000 - val_loss: 3.2444 - val_accuracy: 0.8050\n",
      "Epoch 45/50\n",
      "25000/25000 [==============================] - 9s 374us/sample - loss: 2.8541e-07 - accuracy: 1.0000 - val_loss: 3.3245 - val_accuracy: 0.8049\n",
      "Epoch 46/50\n",
      "25000/25000 [==============================] - 9s 380us/sample - loss: 1.9104e-07 - accuracy: 1.0000 - val_loss: 3.4088 - val_accuracy: 0.8050\n",
      "Epoch 47/50\n",
      "25000/25000 [==============================] - 10s 386us/sample - loss: 1.3201e-07 - accuracy: 1.0000 - val_loss: 3.4867 - val_accuracy: 0.8047\n",
      "Epoch 48/50\n",
      "25000/25000 [==============================] - 9s 377us/sample - loss: 9.1724e-08 - accuracy: 1.0000 - val_loss: 3.5734 - val_accuracy: 0.8054\n",
      "Epoch 49/50\n",
      "25000/25000 [==============================] - 9s 379us/sample - loss: 6.2279e-08 - accuracy: 1.0000 - val_loss: 3.6469 - val_accuracy: 0.8048\n",
      "Epoch 50/50\n",
      "25000/25000 [==============================] - 9s 374us/sample - loss: 4.3498e-08 - accuracy: 1.0000 - val_loss: 3.7241 - val_accuracy: 0.8046\n"
     ]
    }
   ],
   "source": [
    "num_epochs = 50\n",
    "history = model.fit(padded, training_labels_final, epochs=num_epochs, validation_data=(testing_padded, testing_labels_final))"
   ]
  },
  {
   "cell_type": "code",
   "execution_count": 15,
   "metadata": {},
   "outputs": [
    {
     "data": {
      "image/png": "[encoded data removed]",
      "text/plain": [
       "<Figure size 432x288 with 1 Axes>"
      ]
     },
     "metadata": {
      "needs_background": "light"
     },
     "output_type": "display_data"
    },
    {
     "data": {
      "image/png": "[encoded data removed]",
      "text/plain": [
       "<Figure size 432x288 with 1 Axes>"
      ]
     },
     "metadata": {
      "needs_background": "light"
     },
     "output_type": "display_data"
    }
   ],
   "source": [
    "plot_graphs(history, 'accuracy')\n",
    "plot_graphs(history, 'loss')"
   ]
  },
  {
   "cell_type": "code",
   "execution_count": null,
   "metadata": {},
   "outputs": [],
   "source": []
  }
 ],
 "metadata": {
  "kernelspec": {
   "display_name": "Python 3",
   "language": "python",
   "name": "python3"
  },
  "language_info": {
   "codemirror_mode": {
    "name": "ipython",
    "version": 3
   },
   "file_extension": ".py",
   "mimetype": "text/x-python",
   "name": "python",
   "nbconvert_exporter": "python",
   "pygments_lexer": "ipython3",
   "version": "3.7.1"
  }
 },
 "nbformat": 4,
 "nbformat_minor": 2
}

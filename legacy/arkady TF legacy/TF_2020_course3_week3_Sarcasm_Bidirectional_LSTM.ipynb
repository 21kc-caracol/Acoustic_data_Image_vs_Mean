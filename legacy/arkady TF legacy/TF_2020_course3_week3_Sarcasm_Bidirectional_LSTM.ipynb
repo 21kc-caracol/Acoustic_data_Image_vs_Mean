{
 "cells": [
  {
   "cell_type": "code",
   "execution_count": 9,
   "metadata": {},
   "outputs": [],
   "source": [
    "import numpy as np\n",
    "import json\n",
    "import tensorflow as tf\n",
    "\n",
    "from tensorflow.keras.preprocessing.text import Tokenizer\n",
    "from tensorflow.keras.preprocessing.sequence import pad_sequences\n",
    "\n",
    "#!wget --no-check-certificate \\\n",
    "#    https://storage.googleapis.com/laurencemoroney-blog.appspot.com/sarcasm.json \\\n",
    "#    -O /tmp/sarcasm.json\n",
    "\n"
   ]
  },
  {
   "cell_type": "code",
   "execution_count": 10,
   "metadata": {},
   "outputs": [],
   "source": [
    "vocab_size = 1000\n",
    "embedding_dim = 16\n",
    "max_length = 120\n",
    "trunc_type='post'\n",
    "padding_type='post'\n",
    "oov_tok = \"<OOV>\"\n",
    "training_size = 20000"
   ]
  },
  {
   "cell_type": "code",
   "execution_count": 11,
   "metadata": {},
   "outputs": [],
   "source": [
    "root = r'D:\\Users\\Arkady\\Verint\\Coursera_2019_Tensorflow_Specialization\\Course3_NLP'"
   ]
  },
  {
   "cell_type": "code",
   "execution_count": 12,
   "metadata": {},
   "outputs": [],
   "source": [
    "with open(root + \"/tmp/sarcasm.json\", 'r') as f:\n",
    "    datastore = json.load(f)\n",
    "\n",
    "\n",
    "sentences = []\n",
    "labels = []\n",
    "urls = []\n",
    "for item in datastore:\n",
    "    sentences.append(item['headline'])\n",
    "    labels.append(item['is_sarcastic'])\n",
    "\n",
    "training_sentences = sentences[0:training_size]\n",
    "testing_sentences = sentences[training_size:]\n",
    "training_labels = labels[0:training_size]\n",
    "testing_labels = labels[training_size:]\n",
    "\n",
    "tokenizer = Tokenizer(num_words=vocab_size, oov_token=oov_tok)\n",
    "tokenizer.fit_on_texts(training_sentences)\n",
    "\n",
    "word_index = tokenizer.word_index\n",
    "\n",
    "training_sequences = tokenizer.texts_to_sequences(training_sentences)\n",
    "training_padded = pad_sequences(training_sequences, maxlen=max_length, padding=padding_type, truncating=trunc_type)\n",
    "\n",
    "testing_sequences = tokenizer.texts_to_sequences(testing_sentences)\n",
    "testing_padded = pad_sequences(testing_sequences, maxlen=max_length, padding=padding_type, truncating=trunc_type)\n"
   ]
  },
  {
   "cell_type": "code",
   "execution_count": 13,
   "metadata": {},
   "outputs": [
    {
     "name": "stdout",
     "output_type": "stream",
     "text": [
      "Model: \"sequential_2\"\n",
      "_________________________________________________________________\n",
      "Layer (type)                 Output Shape              Param #   \n",
      "=================================================================\n",
      "embedding_2 (Embedding)      (None, 120, 16)           16000     \n",
      "_________________________________________________________________\n",
      "bidirectional_2 (Bidirection (None, 64)                12544     \n",
      "_________________________________________________________________\n",
      "dense_4 (Dense)              (None, 24)                1560      \n",
      "_________________________________________________________________\n",
      "dense_5 (Dense)              (None, 1)                 25        \n",
      "=================================================================\n",
      "Total params: 30,129\n",
      "Trainable params: 30,129\n",
      "Non-trainable params: 0\n",
      "_________________________________________________________________\n"
     ]
    }
   ],
   "source": [
    "model = tf.keras.Sequential([\n",
    "    tf.keras.layers.Embedding(vocab_size, embedding_dim, input_length=max_length),\n",
    "    tf.keras.layers.Bidirectional(tf.keras.layers.LSTM(32)),\n",
    "    tf.keras.layers.Dense(24, activation='relu'),\n",
    "    tf.keras.layers.Dense(1, activation='sigmoid')\n",
    "])\n",
    "model.compile(loss='binary_crossentropy',optimizer='adam',metrics=['accuracy'])\n",
    "model.summary()\n"
   ]
  },
  {
   "cell_type": "code",
   "execution_count": 14,
   "metadata": {},
   "outputs": [],
   "source": [
    "num_epochs = 50\n",
    "training_padded = np.array(training_padded)\n",
    "training_labels = np.array(training_labels)\n",
    "testing_padded = np.array(testing_padded)\n",
    "testing_labels = np.array(testing_labels)"
   ]
  },
  {
   "cell_type": "code",
   "execution_count": 15,
   "metadata": {},
   "outputs": [
    {
     "name": "stdout",
     "output_type": "stream",
     "text": [
      "Train on 20000 samples, validate on 6709 samples\n",
      "Epoch 1/50\n",
      "20000/20000 [==============================] - 45s 2ms/sample - loss: 0.4493 - accuracy: 0.7731 - val_loss: 0.3875 - val_accuracy: 0.8237\n",
      "Epoch 2/50\n",
      "20000/20000 [==============================] - 38s 2ms/sample - loss: 0.3550 - accuracy: 0.8353 - val_loss: 0.3788 - val_accuracy: 0.8235\n",
      "Epoch 3/50\n",
      "20000/20000 [==============================] - 37s 2ms/sample - loss: 0.3294 - accuracy: 0.8500 - val_loss: 0.3663 - val_accuracy: 0.8371\n",
      "Epoch 4/50\n",
      "20000/20000 [==============================] - 36s 2ms/sample - loss: 0.3119 - accuracy: 0.8608 - val_loss: 0.3702 - val_accuracy: 0.8357\n",
      "Epoch 5/50\n",
      "20000/20000 [==============================] - 36s 2ms/sample - loss: 0.2996 - accuracy: 0.8663 - val_loss: 0.3679 - val_accuracy: 0.8347\n",
      "Epoch 6/50\n",
      "20000/20000 [==============================] - 37s 2ms/sample - loss: 0.2893 - accuracy: 0.8734 - val_loss: 0.3747 - val_accuracy: 0.8337\n",
      "Epoch 7/50\n",
      "20000/20000 [==============================] - 37s 2ms/sample - loss: 0.2795 - accuracy: 0.8781 - val_loss: 0.3904 - val_accuracy: 0.8301\n",
      "Epoch 8/50\n",
      "20000/20000 [==============================] - 37s 2ms/sample - loss: 0.2733 - accuracy: 0.8811 - val_loss: 0.3817 - val_accuracy: 0.8317\n",
      "Epoch 9/50\n",
      "20000/20000 [==============================] - 37s 2ms/sample - loss: 0.2666 - accuracy: 0.8825 - val_loss: 0.3980 - val_accuracy: 0.8326\n",
      "Epoch 10/50\n",
      "20000/20000 [==============================] - 37s 2ms/sample - loss: 0.2614 - accuracy: 0.8895 - val_loss: 0.4025 - val_accuracy: 0.8225\n",
      "Epoch 11/50\n",
      "20000/20000 [==============================] - 37s 2ms/sample - loss: 0.2546 - accuracy: 0.8895 - val_loss: 0.4283 - val_accuracy: 0.8231\n",
      "Epoch 12/50\n",
      "20000/20000 [==============================] - 37s 2ms/sample - loss: 0.2467 - accuracy: 0.8934 - val_loss: 0.4278 - val_accuracy: 0.8235\n",
      "Epoch 13/50\n",
      "20000/20000 [==============================] - 37s 2ms/sample - loss: 0.2398 - accuracy: 0.8967 - val_loss: 0.4340 - val_accuracy: 0.8216\n",
      "Epoch 14/50\n",
      "20000/20000 [==============================] - 37s 2ms/sample - loss: 0.2338 - accuracy: 0.9017 - val_loss: 0.4418 - val_accuracy: 0.8216\n",
      "Epoch 15/50\n",
      "20000/20000 [==============================] - 37s 2ms/sample - loss: 0.2259 - accuracy: 0.9040 - val_loss: 0.4458 - val_accuracy: 0.8190\n",
      "Epoch 16/50\n",
      "20000/20000 [==============================] - 37s 2ms/sample - loss: 0.2207 - accuracy: 0.9076 - val_loss: 0.4514 - val_accuracy: 0.8234\n",
      "Epoch 17/50\n",
      "20000/20000 [==============================] - 37s 2ms/sample - loss: 0.2093 - accuracy: 0.9127 - val_loss: 0.5058 - val_accuracy: 0.8202\n",
      "Epoch 18/50\n",
      "20000/20000 [==============================] - 37s 2ms/sample - loss: 0.2035 - accuracy: 0.9147 - val_loss: 0.5150 - val_accuracy: 0.8174\n",
      "Epoch 19/50\n",
      "20000/20000 [==============================] - 37s 2ms/sample - loss: 0.1969 - accuracy: 0.9176 - val_loss: 0.5804 - val_accuracy: 0.8185\n",
      "Epoch 20/50\n",
      "20000/20000 [==============================] - 39s 2ms/sample - loss: 0.1909 - accuracy: 0.9220 - val_loss: 0.5413 - val_accuracy: 0.8165\n",
      "Epoch 21/50\n",
      "20000/20000 [==============================] - 38s 2ms/sample - loss: 0.1854 - accuracy: 0.9238 - val_loss: 0.5759 - val_accuracy: 0.8119\n",
      "Epoch 22/50\n",
      "20000/20000 [==============================] - 39s 2ms/sample - loss: 0.1779 - accuracy: 0.9270 - val_loss: 0.5740 - val_accuracy: 0.8098\n",
      "Epoch 23/50\n",
      "20000/20000 [==============================] - 37s 2ms/sample - loss: 0.1705 - accuracy: 0.9293 - val_loss: 0.6691 - val_accuracy: 0.8100\n",
      "Epoch 24/50\n",
      "20000/20000 [==============================] - 38s 2ms/sample - loss: 0.1642 - accuracy: 0.9320 - val_loss: 0.7073 - val_accuracy: 0.8068\n",
      "Epoch 25/50\n",
      "20000/20000 [==============================] - 40s 2ms/sample - loss: 0.1598 - accuracy: 0.9337 - val_loss: 0.6653 - val_accuracy: 0.8053\n",
      "Epoch 26/50\n",
      "20000/20000 [==============================] - 39s 2ms/sample - loss: 0.1532 - accuracy: 0.9367 - val_loss: 0.7130 - val_accuracy: 0.8104\n",
      "Epoch 27/50\n",
      "20000/20000 [==============================] - 39s 2ms/sample - loss: 0.1455 - accuracy: 0.9395 - val_loss: 0.8946 - val_accuracy: 0.8052\n",
      "Epoch 28/50\n",
      "20000/20000 [==============================] - 38s 2ms/sample - loss: 0.1373 - accuracy: 0.9423 - val_loss: 0.8110 - val_accuracy: 0.8010\n",
      "Epoch 29/50\n",
      "20000/20000 [==============================] - 37s 2ms/sample - loss: 0.1350 - accuracy: 0.9437 - val_loss: 0.8953 - val_accuracy: 0.8001\n",
      "Epoch 30/50\n",
      "20000/20000 [==============================] - 37s 2ms/sample - loss: 0.1258 - accuracy: 0.9487 - val_loss: 0.9799 - val_accuracy: 0.7997\n",
      "Epoch 31/50\n",
      "20000/20000 [==============================] - 38s 2ms/sample - loss: 0.1286 - accuracy: 0.9477 - val_loss: 0.8640 - val_accuracy: 0.8035\n",
      "Epoch 32/50\n",
      "20000/20000 [==============================] - 38s 2ms/sample - loss: 0.1164 - accuracy: 0.9524 - val_loss: 0.9985 - val_accuracy: 0.8064\n",
      "Epoch 33/50\n",
      "20000/20000 [==============================] - 38s 2ms/sample - loss: 0.1143 - accuracy: 0.9535 - val_loss: 1.0334 - val_accuracy: 0.7955\n",
      "Epoch 34/50\n",
      "20000/20000 [==============================] - 38s 2ms/sample - loss: 0.1075 - accuracy: 0.9557 - val_loss: 1.0542 - val_accuracy: 0.7991\n",
      "Epoch 35/50\n",
      "20000/20000 [==============================] - 38s 2ms/sample - loss: 0.1033 - accuracy: 0.9568 - val_loss: 1.1896 - val_accuracy: 0.7958\n",
      "Epoch 36/50\n",
      "20000/20000 [==============================] - 39s 2ms/sample - loss: 0.1018 - accuracy: 0.9577 - val_loss: 1.1977 - val_accuracy: 0.7965\n",
      "Epoch 37/50\n",
      "20000/20000 [==============================] - 42s 2ms/sample - loss: 0.0926 - accuracy: 0.9618 - val_loss: 1.3149 - val_accuracy: 0.8007\n",
      "Epoch 38/50\n",
      "20000/20000 [==============================] - 39s 2ms/sample - loss: 0.0958 - accuracy: 0.9599 - val_loss: 1.3327 - val_accuracy: 0.8032\n",
      "Epoch 39/50\n",
      "20000/20000 [==============================] - 39s 2ms/sample - loss: 0.0905 - accuracy: 0.9620 - val_loss: 1.4603 - val_accuracy: 0.7924\n",
      "Epoch 40/50\n",
      "20000/20000 [==============================] - 40s 2ms/sample - loss: 0.0911 - accuracy: 0.9614 - val_loss: 1.4470 - val_accuracy: 0.7979\n",
      "Epoch 41/50\n",
      "20000/20000 [==============================] - 39s 2ms/sample - loss: 0.0863 - accuracy: 0.9628 - val_loss: 1.4083 - val_accuracy: 0.8016\n",
      "Epoch 42/50\n",
      "20000/20000 [==============================] - 40s 2ms/sample - loss: 0.0796 - accuracy: 0.9653 - val_loss: 1.4655 - val_accuracy: 0.8006\n",
      "Epoch 43/50\n",
      "20000/20000 [==============================] - 42s 2ms/sample - loss: 0.0753 - accuracy: 0.9685 - val_loss: 1.4649 - val_accuracy: 0.7952\n",
      "Epoch 44/50\n",
      "20000/20000 [==============================] - 39s 2ms/sample - loss: 0.0798 - accuracy: 0.9661 - val_loss: 1.6182 - val_accuracy: 0.8001\n",
      "Epoch 45/50\n",
      "20000/20000 [==============================] - 39s 2ms/sample - loss: 0.0753 - accuracy: 0.9681 - val_loss: 1.6065 - val_accuracy: 0.7951\n",
      "Epoch 46/50\n",
      "20000/20000 [==============================] - 39s 2ms/sample - loss: 0.0681 - accuracy: 0.9699 - val_loss: 1.6558 - val_accuracy: 0.7937\n",
      "Epoch 47/50\n",
      "20000/20000 [==============================] - 41s 2ms/sample - loss: 0.0752 - accuracy: 0.9679 - val_loss: 1.6018 - val_accuracy: 0.7940\n",
      "Epoch 48/50\n",
      "20000/20000 [==============================] - 40s 2ms/sample - loss: 0.0638 - accuracy: 0.9711 - val_loss: 1.7674 - val_accuracy: 0.7997\n",
      "Epoch 49/50\n",
      "20000/20000 [==============================] - 38s 2ms/sample - loss: 0.0646 - accuracy: 0.9707 - val_loss: 1.6990 - val_accuracy: 0.7992\n",
      "Epoch 50/50\n",
      "20000/20000 [==============================] - 40s 2ms/sample - loss: 0.0691 - accuracy: 0.9699 - val_loss: 1.6915 - val_accuracy: 0.8001\n"
     ]
    }
   ],
   "source": [
    "history = model.fit(training_padded, training_labels, epochs=num_epochs, validation_data=(testing_padded, testing_labels), verbose=1)"
   ]
  },
  {
   "cell_type": "code",
   "execution_count": 17,
   "metadata": {},
   "outputs": [
    {
     "data": {
      "image/png": "[encoded data removed]",
      "text/plain": [
       "<Figure size 432x288 with 1 Axes>"
      ]
     },
     "metadata": {
      "needs_background": "light"
     },
     "output_type": "display_data"
    },
    {
     "data": {
      "image/png": "[encoded data removed]",
      "text/plain": [
       "<Figure size 432x288 with 1 Axes>"
      ]
     },
     "metadata": {
      "needs_background": "light"
     },
     "output_type": "display_data"
    }
   ],
   "source": [
    "import matplotlib.pyplot as plt\n",
    "\n",
    "\n",
    "def plot_graphs(history, string):\n",
    "  plt.plot(history.history[string])\n",
    "  plt.plot(history.history['val_'+string])\n",
    "  plt.xlabel(\"Epochs\")\n",
    "  plt.ylabel(string)\n",
    "  plt.legend([string, 'val_'+string])\n",
    "  plt.show()\n",
    "\n",
    "plot_graphs(history, 'accuracy')\n",
    "plot_graphs(history, 'loss')"
   ]
  },
  {
   "cell_type": "code",
   "execution_count": 18,
   "metadata": {},
   "outputs": [],
   "source": [
    "model.save(root + \"test.h5\")"
   ]
  },
  {
   "cell_type": "code",
   "execution_count": null,
   "metadata": {},
   "outputs": [],
   "source": []
  }
 ],
 "metadata": {
  "kernelspec": {
   "display_name": "Python 3",
   "language": "python",
   "name": "python3"
  },
  "language_info": {
   "codemirror_mode": {
    "name": "ipython",
    "version": 3
   },
   "file_extension": ".py",
   "mimetype": "text/x-python",
   "name": "python",
   "nbconvert_exporter": "python",
   "pygments_lexer": "ipython3",
   "version": "3.7.1"
  }
 },
 "nbformat": 4,
 "nbformat_minor": 2
}

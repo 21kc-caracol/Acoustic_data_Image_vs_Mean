{
 "cells": [
  {
   "cell_type": "code",
   "execution_count": 74,
   "metadata": {},
   "outputs": [],
   "source": [
    "import csv\n",
    "import numpy as np\n",
    "import tensorflow as tf\n",
    "from tensorflow.keras.preprocessing.image import ImageDataGenerator\n",
    "#from google.colab import files"
   ]
  },
  {
   "cell_type": "code",
   "execution_count": 75,
   "metadata": {},
   "outputs": [],
   "source": [
    "root = r'D:\\Users\\Arkady\\Verint\\Coursera_2019_Tensorflow_Specialization\\Course2_CNN_in_TF\\tmp\\\\'"
   ]
  },
  {
   "cell_type": "code",
   "execution_count": 81,
   "metadata": {},
   "outputs": [
    {
     "name": "stdout",
     "output_type": "stream",
     "text": [
      "D:\\Users\\Arkady\\Verint\\Coursera_2019_Tensorflow_Specialization\\Course2_CNN_in_TF\\tmp\\sign_mnist_train.csv\n",
      "D:\\Users\\Arkady\\Verint\\Coursera_2019_Tensorflow_Specialization\\Course2_CNN_in_TF\\tmp\\sign_mnist_test.csv\n",
      "(27455, 28, 28)\n",
      "(27455,)\n",
      "(7172, 28, 28)\n",
      "(7172,)\n"
     ]
    }
   ],
   "source": [
    "def get_data(filename):\n",
    "  # You will need to write code that will read the file passed\n",
    "  # into this function. The first line contains the column headers\n",
    "  # so you should ignore it\n",
    "  # Each successive line contians 785 comma separated values between 0 and 255\n",
    "  # The first value is the label\n",
    "  # The rest are the pixel values for that picture\n",
    "  # The function will return 2 np.array types. One with all the labels\n",
    "  # One with all the images\n",
    "  #\n",
    "  # Tips: \n",
    "  # If you read a full line (as 'row') then row[0] has the label\n",
    "  # and row[1:785] has the 784 pixel values\n",
    "  # Take a look at np.array_split to turn the 784 pixels into 28x28\n",
    "  # You are reading in strings, but need the values to be floats\n",
    "  # Check out np.array().astype for a conversion\n",
    "    with open(filename) as training_file:\n",
    "        # Your code starts here\n",
    "        csv_reader = csv.reader(training_file, delimiter=',')\n",
    "        line_count = 0\n",
    "        cnt = 0\n",
    "        labels = np.array([], dtype=np.integer)\n",
    "        for row in csv_reader:\n",
    "            if line_count == 0:\n",
    "                line_count += 1\n",
    "            else:\n",
    "                label = row[0]\n",
    "                labels = np.append(labels, label)\n",
    "                cnt = len(row)\n",
    "                npa = np.asarray(row[1:cnt], dtype=np.float32)\n",
    "                l2 = np.array_split(npa, 28)\n",
    "                image = np.asarray(l2)\n",
    "                image = np.expand_dims(image, axis=0)\n",
    "                if line_count == 1:\n",
    "                    images = image\n",
    "                else:\n",
    "                    images = np.vstack([images,image])\n",
    "                #print(line_count, label, image.shape)\n",
    "                line_count +=1\n",
    "    # Your code ends here\n",
    "        return images, labels\n",
    "\n",
    "#trainpath = root + 'sign_mnist_train.csv'\n",
    "#testpath = root + 'sign_mnist_test.csv'\n",
    "trainpath = r\"D:\\Users\\Arkady\\Verint\\Coursera_2019_Tensorflow_Specialization\\Course2_CNN_in_TF\\tmp\\sign_mnist_train.csv\"\n",
    "testpath = r\"D:\\Users\\Arkady\\Verint\\Coursera_2019_Tensorflow_Specialization\\Course2_CNN_in_TF\\tmp\\sign_mnist_test.csv\"\n",
    "print(trainpath)\n",
    "print(testpath)\n",
    "training_images, training_labels = get_data(trainpath)\n",
    "testing_images, testing_labels = get_data(testpath)\n",
    "\n",
    "# Keep these\n",
    "print(training_images.shape)\n",
    "print(training_labels.shape)\n",
    "print(testing_images.shape)\n",
    "print(testing_labels.shape)\n",
    "\n",
    "# Their output should be:\n",
    "# (27455, 28, 28)\n",
    "# (27455,)\n",
    "# (7172, 28, 28)\n",
    "# (7172,)"
   ]
  },
  {
   "cell_type": "code",
   "execution_count": 85,
   "metadata": {},
   "outputs": [
    {
     "name": "stdout",
     "output_type": "stream",
     "text": [
      "(27455, 28, 28, 1)\n",
      "(7172, 28, 28, 1)\n"
     ]
    }
   ],
   "source": [
    "# In this section you will have to add another dimension to the data\n",
    "# So, for example, if your array is (10000, 28, 28)\n",
    "# You will need to make it (10000, 28, 28, 1)\n",
    "# Hint: np.expand_dims\n",
    "\n",
    "training_images = np.expand_dims(training_images, axis=3)\n",
    "testing_images = np.expand_dims(testing_images, axis=3)\n",
    "\n",
    "# Create an ImageDataGenerator and do Image Augmentation\n",
    "train_datagen = ImageDataGenerator(\n",
    "        rescale = 1./255,\n",
    "    rotation_range=40,\n",
    "    width_shift_range=0.2,\n",
    "    height_shift_range=0.2,\n",
    "    shear_range=0.2,\n",
    "    zoom_range=0.2,\n",
    "    horizontal_flip=True,\n",
    "    fill_mode='nearest'    )\n",
    "\n",
    "validation_datagen = ImageDataGenerator(\n",
    "    rescale = 1./255)\n",
    "    \n",
    "# Keep These\n",
    "print(training_images.shape)\n",
    "print(testing_images.shape)\n",
    "    \n",
    "# Their output should be:\n",
    "# (27455, 28, 28, 1)\n",
    "# (7172, 28, 28, 1)"
   ]
  },
  {
   "cell_type": "code",
   "execution_count": 97,
   "metadata": {},
   "outputs": [
    {
     "name": "stdout",
     "output_type": "stream",
     "text": [
      "dict_keys(['a', 'b', 'c'])\n",
      "dict_values([2, 3, 2])\n",
      "3\n",
      "27455 24\n",
      "7172 24\n"
     ]
    }
   ],
   "source": [
    "from collections import Counter\n",
    "words = ['a', 'b', 'c', 'a', 'b', 'b', 'c']\n",
    "\n",
    "print(Counter(words).keys()) # equals to list(set(words))\n",
    "print(Counter(words).values()) # counts the elements' frequency\n",
    "print(len(Counter(words)))\n",
    "print(len(training_labels), len(Counter(training_labels)))\n",
    "print(len(testing_labels), len(Counter(testing_labels)))"
   ]
  },
  {
   "cell_type": "code",
   "execution_count": null,
   "metadata": {},
   "outputs": [
    {
     "name": "stdout",
     "output_type": "stream",
     "text": [
      "num_classes: 25\n",
      "Model: \"sequential_12\"\n",
      "_________________________________________________________________\n",
      "Layer (type)                 Output Shape              Param #   \n",
      "=================================================================\n",
      "conv2d_24 (Conv2D)           (None, 26, 26, 32)        320       \n",
      "_________________________________________________________________\n",
      "max_pooling2d_24 (MaxPooling (None, 13, 13, 32)        0         \n",
      "_________________________________________________________________\n",
      "conv2d_25 (Conv2D)           (None, 11, 11, 32)        9248      \n",
      "_________________________________________________________________\n",
      "max_pooling2d_25 (MaxPooling (None, 5, 5, 32)          0         \n",
      "_________________________________________________________________\n",
      "flatten_12 (Flatten)         (None, 800)               0         \n",
      "_________________________________________________________________\n",
      "dropout_12 (Dropout)         (None, 800)               0         \n",
      "_________________________________________________________________\n",
      "dense_24 (Dense)             (None, 256)               205056    \n",
      "_________________________________________________________________\n",
      "dense_25 (Dense)             (None, 25)                6425      \n",
      "=================================================================\n",
      "Total params: 221,049\n",
      "Trainable params: 221,049\n",
      "Non-trainable params: 0\n",
      "_________________________________________________________________\n",
      "Epoch 1/5\n",
      "858/857 [==============================] - 45s 53ms/step - loss: 2.8410 - accuracy: 0.1412 - val_loss: 2.1606 - val_accuracy: 0.3219\n",
      "Epoch 2/5\n",
      "858/857 [==============================] - 45s 52ms/step - loss: 2.3331 - accuracy: 0.2720 - val_loss: 1.9611 - val_accuracy: 0.3417\n",
      "Epoch 3/5\n",
      "858/857 [==============================] - 46s 54ms/step - loss: 2.0409 - accuracy: 0.3575 - val_loss: 1.2298 - val_accuracy: 0.6062\n",
      "Epoch 4/5\n",
      " 62/857 [=>............................] - ETA: 39s - loss: 1.9080 - accuracy: 0.3947"
     ]
    }
   ],
   "source": [
    "from collections import Counter\n",
    "from keras.utils import to_categorical\n",
    "\n",
    "training_labels_binary = to_categorical(training_labels)\n",
    "testing_labels_binary = to_categorical(testing_labels)\n",
    "num_classes = training_labels_binary.shape[1]\n",
    "print('num_classes:', num_classes)\n",
    "\n",
    "# Define the model\n",
    "# Use no more than 2 Conv2D and 2 MaxPooling2D\n",
    "model = tf.keras.models.Sequential([\n",
    "    tf.keras.layers.Conv2D(32, (3,3), activation='relu', input_shape=(28, 28, 1)),\n",
    "    tf.keras.layers.MaxPooling2D(2, 2),\n",
    "    # The second convolution\n",
    "    tf.keras.layers.Conv2D(32, (3,3), activation='relu'),\n",
    "    tf.keras.layers.MaxPooling2D(2,2),\n",
    "    # Flatten the results to feed into a DNN\n",
    "    tf.keras.layers.Flatten(),\n",
    "    tf.keras.layers.Dropout(0.5),\n",
    "    # 512 neuron hidden layer\n",
    "    tf.keras.layers.Dense(256, activation='relu'),\n",
    "    tf.keras.layers.Dense(num_classes, activation='softmax')\n",
    "])\n",
    "\n",
    "model.summary()\n",
    "    \n",
    "# Compile Model. \n",
    "model.compile(loss = 'categorical_crossentropy', optimizer='rmsprop', metrics=['accuracy'])\n",
    "\n",
    "# Train the Model\n",
    "history = model.fit_generator(\n",
    "    train_datagen.flow(training_images, training_labels_binary, batch_size=32),\n",
    "    #validation_data=(testing_images, testing_labels_binary),\n",
    "    validation_data=validation_datagen.flow(testing_images, testing_labels_binary, batch_size=32),\n",
    "    steps_per_epoch=len(training_images) / 32, \n",
    "    epochs=25)\n",
    "\n",
    "model.evaluate(testing_images, testing_labels_binary)\n",
    "    \n",
    "# The output from model.evaluate should be close to:\n",
    "[6.92426086682151, 0.56609035]\n"
   ]
  },
  {
   "cell_type": "code",
   "execution_count": 115,
   "metadata": {},
   "outputs": [
    {
     "data": {
      "image/png": "[encoded data removed]",
      "text/plain": [
       "<Figure size 432x288 with 1 Axes>"
      ]
     },
     "metadata": {
      "needs_background": "light"
     },
     "output_type": "display_data"
    },
    {
     "data": {
      "image/png": "[encoded data removed]",
      "text/plain": [
       "<Figure size 432x288 with 1 Axes>"
      ]
     },
     "metadata": {
      "needs_background": "light"
     },
     "output_type": "display_data"
    }
   ],
   "source": [
    "# Plot the chart for accuracy and loss on both training and validation\n",
    "\n",
    "import matplotlib.pyplot as plt\n",
    "acc = history.history['accuracy']\n",
    "val_acc = history.history['val_accuracy']\n",
    "loss = history.history['loss']\n",
    "val_loss = history.history['val_loss']\n",
    "\n",
    "epochs = range(len(acc))\n",
    "\n",
    "plt.plot(epochs, acc, 'r', label='Training accuracy')\n",
    "plt.plot(epochs, val_acc, 'b', label='Validation accuracy')\n",
    "plt.title('Training and validation accuracy')\n",
    "plt.legend()\n",
    "plt.figure()\n",
    "\n",
    "plt.plot(epochs, loss, 'r', label='Training Loss')\n",
    "plt.plot(epochs, val_loss, 'b', label='Validation Loss')\n",
    "plt.title('Training and validation loss')\n",
    "plt.legend()\n",
    "\n",
    "plt.show()"
   ]
  },
  {
   "cell_type": "code",
   "execution_count": null,
   "metadata": {},
   "outputs": [],
   "source": []
  }
 ],
 "metadata": {
  "kernelspec": {
   "display_name": "Python 3",
   "language": "python",
   "name": "python3"
  },
  "language_info": {
   "codemirror_mode": {
    "name": "ipython",
    "version": 3
   },
   "file_extension": ".py",
   "mimetype": "text/x-python",
   "name": "python",
   "nbconvert_exporter": "python",
   "pygments_lexer": "ipython3",
   "version": "3.7.1"
  }
 },
 "nbformat": 4,
 "nbformat_minor": 2
}
